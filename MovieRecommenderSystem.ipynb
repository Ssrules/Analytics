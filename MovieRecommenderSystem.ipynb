#%%
import pandas as pd 
import numpy as np
import matplotlib.pyplot as plt
import seaborn as sns
from sklearn.model_selection import train_test_split
#creating a dataframe with movies name
movies=pd.read_csv('/Users/sumitsharma/Desktop/tmdb_5000_movies.csv',on_bad_lines='skip')
credits=pd.read_csv('/Users/sumitsharma/Desktop/tmdb_5000_credits.csv')
print(movies)

# %%
